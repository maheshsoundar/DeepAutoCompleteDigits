{
 "cells": [
  {
   "cell_type": "markdown",
   "metadata": {},
   "source": [
    "# Auto-completion of handwritten digits using Deep Learning"
   ]
  },
  {
   "cell_type": "markdown",
   "metadata": {},
   "source": [
    "The file shows how to train and use a model to auto-complete an image of a number(0-9) only half-written. The halfway completed\n",
    "image of a number is identified and correctly completed. THis can be then checked with the original unaltered image(full image) for correctness."
   ]
  },
  {
   "cell_type": "code",
   "execution_count": 41,
   "metadata": {},
   "outputs": [],
   "source": [
    "import tensorflow as tf\n",
    "import keras\n",
    "import numpy as np\n",
    "import pandas as pd\n",
    "import matplotlib.pyplot as plt\n",
    "from sklearn.preprocessing import MinMaxScaler\n",
    "from tensorflow.keras.callbacks import EarlyStopping\n",
    "from keras.optimizers import Adam\n",
    "\n",
    "seed = 5\n",
    "np.random.seed(seed)\n",
    "tf.random.set_random_seed(seed)"
   ]
  },
  {
   "cell_type": "markdown",
   "metadata": {},
   "source": [
    "Import the train and test files containing the image values in csv format. Each row corresponds to an image with 784(28*28) pixel values and extra column called label. The dataset is taken from https://www.kaggle.com/oddrationale/mnist-in-csv"
   ]
  },
  {
   "cell_type": "code",
   "execution_count": 42,
   "metadata": {},
   "outputs": [
    {
     "name": "stdout",
     "output_type": "stream",
     "text": [
      "(10000, 785)\n"
     ]
    },
    {
     "data": {
      "text/html": [
       "<div>\n",
       "<style scoped>\n",
       "    .dataframe tbody tr th:only-of-type {\n",
       "        vertical-align: middle;\n",
       "    }\n",
       "\n",
       "    .dataframe tbody tr th {\n",
       "        vertical-align: top;\n",
       "    }\n",
       "\n",
       "    .dataframe thead th {\n",
       "        text-align: right;\n",
       "    }\n",
       "</style>\n",
       "<table border=\"1\" class=\"dataframe\">\n",
       "  <thead>\n",
       "    <tr style=\"text-align: right;\">\n",
       "      <th></th>\n",
       "      <th>label</th>\n",
       "      <th>1x1</th>\n",
       "      <th>1x2</th>\n",
       "      <th>1x3</th>\n",
       "      <th>1x4</th>\n",
       "      <th>1x5</th>\n",
       "      <th>1x6</th>\n",
       "      <th>1x7</th>\n",
       "      <th>1x8</th>\n",
       "      <th>1x9</th>\n",
       "      <th>...</th>\n",
       "      <th>28x19</th>\n",
       "      <th>28x20</th>\n",
       "      <th>28x21</th>\n",
       "      <th>28x22</th>\n",
       "      <th>28x23</th>\n",
       "      <th>28x24</th>\n",
       "      <th>28x25</th>\n",
       "      <th>28x26</th>\n",
       "      <th>28x27</th>\n",
       "      <th>28x28</th>\n",
       "    </tr>\n",
       "  </thead>\n",
       "  <tbody>\n",
       "    <tr>\n",
       "      <th>0</th>\n",
       "      <td>5</td>\n",
       "      <td>0</td>\n",
       "      <td>0</td>\n",
       "      <td>0</td>\n",
       "      <td>0</td>\n",
       "      <td>0</td>\n",
       "      <td>0</td>\n",
       "      <td>0</td>\n",
       "      <td>0</td>\n",
       "      <td>0</td>\n",
       "      <td>...</td>\n",
       "      <td>0</td>\n",
       "      <td>0</td>\n",
       "      <td>0</td>\n",
       "      <td>0</td>\n",
       "      <td>0</td>\n",
       "      <td>0</td>\n",
       "      <td>0</td>\n",
       "      <td>0</td>\n",
       "      <td>0</td>\n",
       "      <td>0</td>\n",
       "    </tr>\n",
       "    <tr>\n",
       "      <th>1</th>\n",
       "      <td>0</td>\n",
       "      <td>0</td>\n",
       "      <td>0</td>\n",
       "      <td>0</td>\n",
       "      <td>0</td>\n",
       "      <td>0</td>\n",
       "      <td>0</td>\n",
       "      <td>0</td>\n",
       "      <td>0</td>\n",
       "      <td>0</td>\n",
       "      <td>...</td>\n",
       "      <td>0</td>\n",
       "      <td>0</td>\n",
       "      <td>0</td>\n",
       "      <td>0</td>\n",
       "      <td>0</td>\n",
       "      <td>0</td>\n",
       "      <td>0</td>\n",
       "      <td>0</td>\n",
       "      <td>0</td>\n",
       "      <td>0</td>\n",
       "    </tr>\n",
       "    <tr>\n",
       "      <th>2</th>\n",
       "      <td>4</td>\n",
       "      <td>0</td>\n",
       "      <td>0</td>\n",
       "      <td>0</td>\n",
       "      <td>0</td>\n",
       "      <td>0</td>\n",
       "      <td>0</td>\n",
       "      <td>0</td>\n",
       "      <td>0</td>\n",
       "      <td>0</td>\n",
       "      <td>...</td>\n",
       "      <td>0</td>\n",
       "      <td>0</td>\n",
       "      <td>0</td>\n",
       "      <td>0</td>\n",
       "      <td>0</td>\n",
       "      <td>0</td>\n",
       "      <td>0</td>\n",
       "      <td>0</td>\n",
       "      <td>0</td>\n",
       "      <td>0</td>\n",
       "    </tr>\n",
       "    <tr>\n",
       "      <th>3</th>\n",
       "      <td>1</td>\n",
       "      <td>0</td>\n",
       "      <td>0</td>\n",
       "      <td>0</td>\n",
       "      <td>0</td>\n",
       "      <td>0</td>\n",
       "      <td>0</td>\n",
       "      <td>0</td>\n",
       "      <td>0</td>\n",
       "      <td>0</td>\n",
       "      <td>...</td>\n",
       "      <td>0</td>\n",
       "      <td>0</td>\n",
       "      <td>0</td>\n",
       "      <td>0</td>\n",
       "      <td>0</td>\n",
       "      <td>0</td>\n",
       "      <td>0</td>\n",
       "      <td>0</td>\n",
       "      <td>0</td>\n",
       "      <td>0</td>\n",
       "    </tr>\n",
       "    <tr>\n",
       "      <th>4</th>\n",
       "      <td>9</td>\n",
       "      <td>0</td>\n",
       "      <td>0</td>\n",
       "      <td>0</td>\n",
       "      <td>0</td>\n",
       "      <td>0</td>\n",
       "      <td>0</td>\n",
       "      <td>0</td>\n",
       "      <td>0</td>\n",
       "      <td>0</td>\n",
       "      <td>...</td>\n",
       "      <td>0</td>\n",
       "      <td>0</td>\n",
       "      <td>0</td>\n",
       "      <td>0</td>\n",
       "      <td>0</td>\n",
       "      <td>0</td>\n",
       "      <td>0</td>\n",
       "      <td>0</td>\n",
       "      <td>0</td>\n",
       "      <td>0</td>\n",
       "    </tr>\n",
       "    <tr>\n",
       "      <th>...</th>\n",
       "      <td>...</td>\n",
       "      <td>...</td>\n",
       "      <td>...</td>\n",
       "      <td>...</td>\n",
       "      <td>...</td>\n",
       "      <td>...</td>\n",
       "      <td>...</td>\n",
       "      <td>...</td>\n",
       "      <td>...</td>\n",
       "      <td>...</td>\n",
       "      <td>...</td>\n",
       "      <td>...</td>\n",
       "      <td>...</td>\n",
       "      <td>...</td>\n",
       "      <td>...</td>\n",
       "      <td>...</td>\n",
       "      <td>...</td>\n",
       "      <td>...</td>\n",
       "      <td>...</td>\n",
       "      <td>...</td>\n",
       "      <td>...</td>\n",
       "    </tr>\n",
       "    <tr>\n",
       "      <th>59995</th>\n",
       "      <td>8</td>\n",
       "      <td>0</td>\n",
       "      <td>0</td>\n",
       "      <td>0</td>\n",
       "      <td>0</td>\n",
       "      <td>0</td>\n",
       "      <td>0</td>\n",
       "      <td>0</td>\n",
       "      <td>0</td>\n",
       "      <td>0</td>\n",
       "      <td>...</td>\n",
       "      <td>0</td>\n",
       "      <td>0</td>\n",
       "      <td>0</td>\n",
       "      <td>0</td>\n",
       "      <td>0</td>\n",
       "      <td>0</td>\n",
       "      <td>0</td>\n",
       "      <td>0</td>\n",
       "      <td>0</td>\n",
       "      <td>0</td>\n",
       "    </tr>\n",
       "    <tr>\n",
       "      <th>59996</th>\n",
       "      <td>3</td>\n",
       "      <td>0</td>\n",
       "      <td>0</td>\n",
       "      <td>0</td>\n",
       "      <td>0</td>\n",
       "      <td>0</td>\n",
       "      <td>0</td>\n",
       "      <td>0</td>\n",
       "      <td>0</td>\n",
       "      <td>0</td>\n",
       "      <td>...</td>\n",
       "      <td>0</td>\n",
       "      <td>0</td>\n",
       "      <td>0</td>\n",
       "      <td>0</td>\n",
       "      <td>0</td>\n",
       "      <td>0</td>\n",
       "      <td>0</td>\n",
       "      <td>0</td>\n",
       "      <td>0</td>\n",
       "      <td>0</td>\n",
       "    </tr>\n",
       "    <tr>\n",
       "      <th>59997</th>\n",
       "      <td>5</td>\n",
       "      <td>0</td>\n",
       "      <td>0</td>\n",
       "      <td>0</td>\n",
       "      <td>0</td>\n",
       "      <td>0</td>\n",
       "      <td>0</td>\n",
       "      <td>0</td>\n",
       "      <td>0</td>\n",
       "      <td>0</td>\n",
       "      <td>...</td>\n",
       "      <td>0</td>\n",
       "      <td>0</td>\n",
       "      <td>0</td>\n",
       "      <td>0</td>\n",
       "      <td>0</td>\n",
       "      <td>0</td>\n",
       "      <td>0</td>\n",
       "      <td>0</td>\n",
       "      <td>0</td>\n",
       "      <td>0</td>\n",
       "    </tr>\n",
       "    <tr>\n",
       "      <th>59998</th>\n",
       "      <td>6</td>\n",
       "      <td>0</td>\n",
       "      <td>0</td>\n",
       "      <td>0</td>\n",
       "      <td>0</td>\n",
       "      <td>0</td>\n",
       "      <td>0</td>\n",
       "      <td>0</td>\n",
       "      <td>0</td>\n",
       "      <td>0</td>\n",
       "      <td>...</td>\n",
       "      <td>0</td>\n",
       "      <td>0</td>\n",
       "      <td>0</td>\n",
       "      <td>0</td>\n",
       "      <td>0</td>\n",
       "      <td>0</td>\n",
       "      <td>0</td>\n",
       "      <td>0</td>\n",
       "      <td>0</td>\n",
       "      <td>0</td>\n",
       "    </tr>\n",
       "    <tr>\n",
       "      <th>59999</th>\n",
       "      <td>8</td>\n",
       "      <td>0</td>\n",
       "      <td>0</td>\n",
       "      <td>0</td>\n",
       "      <td>0</td>\n",
       "      <td>0</td>\n",
       "      <td>0</td>\n",
       "      <td>0</td>\n",
       "      <td>0</td>\n",
       "      <td>0</td>\n",
       "      <td>...</td>\n",
       "      <td>0</td>\n",
       "      <td>0</td>\n",
       "      <td>0</td>\n",
       "      <td>0</td>\n",
       "      <td>0</td>\n",
       "      <td>0</td>\n",
       "      <td>0</td>\n",
       "      <td>0</td>\n",
       "      <td>0</td>\n",
       "      <td>0</td>\n",
       "    </tr>\n",
       "  </tbody>\n",
       "</table>\n",
       "<p>60000 rows × 785 columns</p>\n",
       "</div>"
      ],
      "text/plain": [
       "       label  1x1  1x2  1x3  1x4  1x5  1x6  1x7  1x8  1x9  ...  28x19  28x20  \\\n",
       "0          5    0    0    0    0    0    0    0    0    0  ...      0      0   \n",
       "1          0    0    0    0    0    0    0    0    0    0  ...      0      0   \n",
       "2          4    0    0    0    0    0    0    0    0    0  ...      0      0   \n",
       "3          1    0    0    0    0    0    0    0    0    0  ...      0      0   \n",
       "4          9    0    0    0    0    0    0    0    0    0  ...      0      0   \n",
       "...      ...  ...  ...  ...  ...  ...  ...  ...  ...  ...  ...    ...    ...   \n",
       "59995      8    0    0    0    0    0    0    0    0    0  ...      0      0   \n",
       "59996      3    0    0    0    0    0    0    0    0    0  ...      0      0   \n",
       "59997      5    0    0    0    0    0    0    0    0    0  ...      0      0   \n",
       "59998      6    0    0    0    0    0    0    0    0    0  ...      0      0   \n",
       "59999      8    0    0    0    0    0    0    0    0    0  ...      0      0   \n",
       "\n",
       "       28x21  28x22  28x23  28x24  28x25  28x26  28x27  28x28  \n",
       "0          0      0      0      0      0      0      0      0  \n",
       "1          0      0      0      0      0      0      0      0  \n",
       "2          0      0      0      0      0      0      0      0  \n",
       "3          0      0      0      0      0      0      0      0  \n",
       "4          0      0      0      0      0      0      0      0  \n",
       "...      ...    ...    ...    ...    ...    ...    ...    ...  \n",
       "59995      0      0      0      0      0      0      0      0  \n",
       "59996      0      0      0      0      0      0      0      0  \n",
       "59997      0      0      0      0      0      0      0      0  \n",
       "59998      0      0      0      0      0      0      0      0  \n",
       "59999      0      0      0      0      0      0      0      0  \n",
       "\n",
       "[60000 rows x 785 columns]"
      ]
     },
     "execution_count": 42,
     "metadata": {},
     "output_type": "execute_result"
    }
   ],
   "source": [
    "train = pd.read_csv('mnist_train.csv')\n",
    "test = pd.read_csv('mnist_test.csv')\n",
    "print(test.shape)\n",
    "train"
   ]
  },
  {
   "cell_type": "markdown",
   "metadata": {},
   "source": [
    "The distribution of the numbers(0-9) in the train dataset"
   ]
  },
  {
   "cell_type": "code",
   "execution_count": 43,
   "metadata": {},
   "outputs": [
    {
     "data": {
      "text/plain": [
       "1    6742\n",
       "7    6265\n",
       "3    6131\n",
       "2    5958\n",
       "9    5949\n",
       "0    5923\n",
       "6    5918\n",
       "8    5851\n",
       "4    5842\n",
       "5    5421\n",
       "Name: label, dtype: int64"
      ]
     },
     "execution_count": 43,
     "metadata": {},
     "output_type": "execute_result"
    }
   ],
   "source": [
    "train.label.value_counts()"
   ]
  },
  {
   "cell_type": "markdown",
   "metadata": {},
   "source": [
    "The column with the labels is not needed for this usecase and hence dropped."
   ]
  },
  {
   "cell_type": "code",
   "execution_count": 44,
   "metadata": {},
   "outputs": [
    {
     "name": "stdout",
     "output_type": "stream",
     "text": [
      "(60000, 784)\n",
      "(10000, 784)\n"
     ]
    }
   ],
   "source": [
    "train.drop(columns=['label'],inplace=True)\n",
    "test.drop(columns=['label'],inplace=True)\n",
    "print(train.shape)\n",
    "print(test.shape)"
   ]
  },
  {
   "cell_type": "markdown",
   "metadata": {},
   "source": [
    "Normalize the images"
   ]
  },
  {
   "cell_type": "code",
   "execution_count": 45,
   "metadata": {},
   "outputs": [
    {
     "name": "stdout",
     "output_type": "stream",
     "text": [
      "(60000, 784)\n",
      "(10000, 784)\n"
     ]
    }
   ],
   "source": [
    "scaler = MinMaxScaler().fit(train.values)\n",
    "train = scaler.transform(train.values)\n",
    "test = scaler.transform(test.values)\n",
    "print(train.shape)\n",
    "print(test.shape)"
   ]
  },
  {
   "cell_type": "markdown",
   "metadata": {},
   "source": [
    "An example of an image of a number."
   ]
  },
  {
   "cell_type": "code",
   "execution_count": 46,
   "metadata": {},
   "outputs": [
    {
     "data": {
      "image/png": "[encoded data removed]",
      "text/plain": [
       "<Figure size 936x504 with 1 Axes>"
      ]
     },
     "metadata": {
      "needs_background": "light"
     },
     "output_type": "display_data"
    }
   ],
   "source": [
    "image = np.array(train[0]).reshape(28,28)\n",
    "plt.figure(figsize=(13,7))\n",
    "plt.imshow(image, cmap=\"gray_r\")\n",
    "plt.title('Example')\n",
    "plt.show()"
   ]
  },
  {
   "cell_type": "markdown",
   "metadata": {},
   "source": [
    "To create half-written images of numbers, we manually remove second half of the image by making the corresponding pixel values 0"
   ]
  },
  {
   "cell_type": "code",
   "execution_count": 47,
   "metadata": {},
   "outputs": [],
   "source": [
    "n_exclude = train.shape[1] - int(train.shape[1]*0.5)\n",
    "target = train.copy()\n",
    "target_test = test.copy()\n",
    "train[:,-(n_exclude):] = 0\n",
    "test[:,-(n_exclude):] = 0"
   ]
  },
  {
   "cell_type": "markdown",
   "metadata": {},
   "source": [
    "The same image above is now only half-written. It looks like the following. These images will serve as train inputs and the un-altered images as the targets."
   ]
  },
  {
   "cell_type": "code",
   "execution_count": 48,
   "metadata": {},
   "outputs": [
    {
     "data": {
      "image/png": "[encoded data removed]",
      "text/plain": [
       "<Figure size 936x504 with 1 Axes>"
      ]
     },
     "metadata": {
      "needs_background": "light"
     },
     "output_type": "display_data"
    }
   ],
   "source": [
    "image = np.array(train[0]).reshape(28,28)\n",
    "plt.figure(figsize=(13,7))\n",
    "plt.imshow(image, cmap=\"gray_r\")\n",
    "plt.title('Example half-written')\n",
    "plt.show()"
   ]
  },
  {
   "cell_type": "markdown",
   "metadata": {},
   "source": [
    "Train a model with half-written images as inputs and un-altered original images as targets. Here we use Keras to train a deep neural network. The network learns to auto-complete the images according to the number (0-9)"
   ]
  },
  {
   "cell_type": "code",
   "execution_count": 49,
   "metadata": {
    "scrolled": true
   },
   "outputs": [
    {
     "name": "stdout",
     "output_type": "stream",
     "text": [
      "Train on 42000 samples, validate on 18000 samples\n",
      "Epoch 1/50\n",
      "42000/42000 [==============================] - 9s 218us/step - loss: 0.0346 - val_loss: 0.0237\n",
      "Epoch 2/50\n",
      "42000/42000 [==============================] - 9s 216us/step - loss: 0.0255 - val_loss: 0.0221\n",
      "Epoch 3/50\n",
      "42000/42000 [==============================] - 9s 220us/step - loss: 0.0242 - val_loss: 0.0213\n",
      "Epoch 4/50\n",
      "42000/42000 [==============================] - 9s 215us/step - loss: 0.0235 - val_loss: 0.0209\n",
      "Epoch 5/50\n",
      "42000/42000 [==============================] - 9s 218us/step - loss: 0.0231 - val_loss: 0.0208\n",
      "Epoch 6/50\n",
      "42000/42000 [==============================] - 9s 218us/step - loss: 0.0228 - val_loss: 0.0208\n",
      "Epoch 7/50\n",
      "42000/42000 [==============================] - 9s 219us/step - loss: 0.0226 - val_loss: 0.0204\n",
      "Epoch 8/50\n",
      "42000/42000 [==============================] - 9s 221us/step - loss: 0.0224 - val_loss: 0.0201\n",
      "Epoch 9/50\n",
      "42000/42000 [==============================] - 9s 226us/step - loss: 0.0222 - val_loss: 0.0201\n",
      "Epoch 10/50\n",
      "42000/42000 [==============================] - 10s 232us/step - loss: 0.0221 - val_loss: 0.0199\n",
      "Epoch 11/50\n",
      "42000/42000 [==============================] - 9s 223us/step - loss: 0.0219 - val_loss: 0.0200\n",
      "Epoch 12/50\n",
      "42000/42000 [==============================] - 10s 229us/step - loss: 0.0218 - val_loss: 0.0198\n",
      "Epoch 13/50\n",
      "42000/42000 [==============================] - 10s 229us/step - loss: 0.0217 - val_loss: 0.0197\n",
      "Epoch 14/50\n",
      "42000/42000 [==============================] - 10s 230us/step - loss: 0.0216 - val_loss: 0.0197\n",
      "Epoch 15/50\n",
      "42000/42000 [==============================] - 10s 232us/step - loss: 0.0215 - val_loss: 0.0197\n",
      "Epoch 16/50\n",
      "42000/42000 [==============================] - 10s 234us/step - loss: 0.0214 - val_loss: 0.0195\n",
      "Epoch 17/50\n",
      "42000/42000 [==============================] - 9s 223us/step - loss: 0.0213 - val_loss: 0.0196\n",
      "Epoch 18/50\n",
      "42000/42000 [==============================] - 9s 226us/step - loss: 0.0212 - val_loss: 0.0196\n",
      "Epoch 19/50\n",
      "42000/42000 [==============================] - 10s 231us/step - loss: 0.0211 - val_loss: 0.0195\n",
      "Epoch 20/50\n",
      "42000/42000 [==============================] - 9s 223us/step - loss: 0.0211 - val_loss: 0.0195\n",
      "Epoch 21/50\n",
      "42000/42000 [==============================] - 10s 234us/step - loss: 0.0211 - val_loss: 0.0194\n",
      "Epoch 22/50\n",
      "42000/42000 [==============================] - 10s 233us/step - loss: 0.0210 - val_loss: 0.0194\n",
      "Epoch 23/50\n",
      "42000/42000 [==============================] - 10s 242us/step - loss: 0.0209 - val_loss: 0.0194\n",
      "Epoch 24/50\n",
      "42000/42000 [==============================] - 10s 237us/step - loss: 0.0209 - val_loss: 0.0193\n",
      "Epoch 25/50\n",
      "42000/42000 [==============================] - 9s 221us/step - loss: 0.0209 - val_loss: 0.0196\n",
      "Epoch 26/50\n",
      "42000/42000 [==============================] - 9s 219us/step - loss: 0.0208 - val_loss: 0.0192\n",
      "Epoch 27/50\n",
      "42000/42000 [==============================] - 9s 222us/step - loss: 0.0208 - val_loss: 0.0193\n",
      "Epoch 28/50\n",
      "42000/42000 [==============================] - 9s 219us/step - loss: 0.0207 - val_loss: 0.0193\n",
      "Epoch 29/50\n",
      "42000/42000 [==============================] - 9s 222us/step - loss: 0.0207 - val_loss: 0.0193\n",
      "Epoch 30/50\n",
      "42000/42000 [==============================] - 9s 218us/step - loss: 0.0206 - val_loss: 0.0196\n",
      "Epoch 31/50\n",
      "42000/42000 [==============================] - 9s 219us/step - loss: 0.0206 - val_loss: 0.0193\n",
      "Epoch 32/50\n",
      "42000/42000 [==============================] - 9s 219us/step - loss: 0.0205 - val_loss: 0.0193\n",
      "Epoch 33/50\n",
      "42000/42000 [==============================] - 9s 220us/step - loss: 0.0206 - val_loss: 0.0194\n",
      "Epoch 34/50\n",
      "42000/42000 [==============================] - 9s 220us/step - loss: 0.0205 - val_loss: 0.0192\n",
      "Epoch 35/50\n",
      "42000/42000 [==============================] - 9s 220us/step - loss: 0.0205 - val_loss: 0.0193\n",
      "Epoch 36/50\n",
      "42000/42000 [==============================] - 9s 220us/step - loss: 0.0204 - val_loss: 0.0193\n",
      "Epoch 37/50\n",
      "42000/42000 [==============================] - 9s 218us/step - loss: 0.0204 - val_loss: 0.0192\n",
      "Epoch 38/50\n",
      "42000/42000 [==============================] - 9s 217us/step - loss: 0.0204 - val_loss: 0.0192\n",
      "Epoch 39/50\n",
      "42000/42000 [==============================] - 9s 216us/step - loss: 0.0204 - val_loss: 0.0192\n",
      "Epoch 40/50\n",
      "42000/42000 [==============================] - 9s 218us/step - loss: 0.0203 - val_loss: 0.0191\n",
      "Epoch 41/50\n",
      "42000/42000 [==============================] - 9s 218us/step - loss: 0.0203 - val_loss: 0.0191\n",
      "Epoch 42/50\n",
      "42000/42000 [==============================] - 9s 221us/step - loss: 0.0203 - val_loss: 0.0191\n",
      "Epoch 43/50\n",
      "42000/42000 [==============================] - 9s 221us/step - loss: 0.0203 - val_loss: 0.0193\n",
      "Epoch 44/50\n",
      "42000/42000 [==============================] - 9s 221us/step - loss: 0.0202 - val_loss: 0.0192\n",
      "Epoch 45/50\n",
      "42000/42000 [==============================] - 9s 220us/step - loss: 0.0202 - val_loss: 0.0192\n",
      "Epoch 46/50\n",
      "42000/42000 [==============================] - 9s 222us/step - loss: 0.0202 - val_loss: 0.0192\n",
      "Epoch 47/50\n",
      "42000/42000 [==============================] - 9s 220us/step - loss: 0.0202 - val_loss: 0.0192\n",
      "Epoch 48/50\n",
      "42000/42000 [==============================] - 9s 221us/step - loss: 0.0202 - val_loss: 0.0191\n",
      "Epoch 49/50\n",
      "42000/42000 [==============================] - 9s 224us/step - loss: 0.0202 - val_loss: 0.0192\n",
      "Epoch 50/50\n",
      "42000/42000 [==============================] - 9s 221us/step - loss: 0.0201 - val_loss: 0.0191\n",
      "10000/10000 [==============================] - 1s 78us/step\n"
     ]
    },
    {
     "data": {
      "text/plain": [
       "0.01905330699980259"
      ]
     },
     "execution_count": 49,
     "metadata": {},
     "output_type": "execute_result"
    }
   ],
   "source": [
    "from keras.models import Sequential\n",
    "from keras.layers import Dense,Dropout\n",
    "model = Sequential()\n",
    "model.add(Dense(1000, input_dim=train.shape[1], activation='relu'))\n",
    "model.add(Dropout(0.3))\n",
    "model.add(Dense(train.shape[1], activation='linear'))\n",
    "early_stopping = EarlyStopping(monitor='val_loss',mode='min',patience=3)\n",
    "opt = Adam(learning_rate=0.001)\n",
    "\n",
    "model.compile(loss='mse', optimizer=opt)\n",
    "history = model.fit(train, target, epochs=50, batch_size=128,  verbose=1, validation_split=0.3)\n",
    "model.evaluate(test,target_test)"
   ]
  },
  {
   "cell_type": "markdown",
   "metadata": {},
   "source": [
    "The learning curve. The network architecture as well as other hyperparameters like dropout value, learning rate can further be altered to get a even better performance. But this is just to showcase the possibilities and hence working with a simple model."
   ]
  },
  {
   "cell_type": "code",
   "execution_count": 68,
   "metadata": {},
   "outputs": [
    {
     "data": {
      "image/png": "[encoded data removed]",
      "text/plain": [
       "<Figure size 936x504 with 1 Axes>"
      ]
     },
     "metadata": {
      "needs_background": "light"
     },
     "output_type": "display_data"
    }
   ],
   "source": [
    "fig = plt.figure(figsize=(13,7))\n",
    "plt.subplot(2,1,1)\n",
    "plt.plot(history.history['loss'])\n",
    "plt.plot(history.history['val_loss'])\n",
    "plt.title('Learning Curve')\n",
    "plt.ylabel('Loss')\n",
    "plt.xlabel('Epoch')\n",
    "plt.legend(['train', 'validation'], loc='upper right')\n",
    "plt.show()"
   ]
  },
  {
   "cell_type": "markdown",
   "metadata": {},
   "source": [
    "Below we try to predict randomly some inputs from the test dataset which is also half-written. Then the result is compared with the corresponding original un-altered image for checking the effectiveness of the model. The images plotted here show the auto-completed iimages from NN along with the corresponding half-written input as well as the original un-altered images. The auto-completed images are correct and the goal has been achieved."
   ]
  },
  {
   "cell_type": "code",
   "execution_count": 69,
   "metadata": {},
   "outputs": [
    {
     "data": {
      "image/png": "[encoded data removed]",
      "text/plain": [
       "<Figure size 1080x648 with 15 Axes>"
      ]
     },
     "metadata": {
      "needs_background": "light"
     },
     "output_type": "display_data"
    }
   ],
   "source": [
    "rands = np.random.randint(low=0, high=len(test)-1, size=(5,))\n",
    "fig, ax = plt.subplots(nrows=5, ncols=3,figsize=(15,9))\n",
    "row=0\n",
    "cols = ['Auto-Completed by NN', 'Test Input', 'Actual Image']\n",
    "for axis, col in zip(ax[0], cols):\n",
    "    axis.set_title(col) \n",
    "for i in rands:\n",
    "    pred = model.predict(test[i].reshape(1,-1))\n",
    "    ax[row][0].imshow(np.array(pred).reshape(28,28), cmap=\"gray_r\")\n",
    "    ax[row][1].imshow(np.array(test[i]).reshape(28,28), cmap=\"gray_r\")\n",
    "    ax[row][2].imshow(np.array(target_test[i]).reshape(28,28), cmap=\"gray_r\")\n",
    "    row+=1\n",
    "fig.tight_layout()\n",
    "plt.show()"
   ]
  },
  {
   "cell_type": "markdown",
   "metadata": {},
   "source": [
    "The model can be further imporved by using grid search to find the best hyperparameters."
   ]
  }
 ],
 "metadata": {
  "kernelspec": {
   "display_name": "Python 3",
   "language": "python",
   "name": "python3"
  },
  "language_info": {
   "codemirror_mode": {
    "name": "ipython",
    "version": 3
   },
   "file_extension": ".py",
   "mimetype": "text/x-python",
   "name": "python",
   "nbconvert_exporter": "python",
   "pygments_lexer": "ipython3",
   "version": "3.7.6"
  }
 },
 "nbformat": 4,
 "nbformat_minor": 4
}
